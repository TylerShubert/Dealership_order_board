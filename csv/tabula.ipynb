{
 "cells": [
  {
   "cell_type": "code",
   "execution_count": 2,
   "metadata": {},
   "outputs": [
    {
     "name": "stderr",
     "output_type": "stream",
     "text": [
      "'java' is not recognized as an internal or external command,\n",
      "operable program or batch file.\n"
     ]
    }
   ],
   "source": [
    "import tabula\n",
    "\n",
    "#reading PDF into list of DataFrame\n",
    "pdf_path = \"ConfidentialPriceFile_01_Futr.pdf\"\n",
    "\n",
    "#converting PDF into a CSV file\n",
    "#tabula.convert_into(pdf_path, \"output.csv\", output_format=\"csv\", pages='all')\n",
    "#dfs = tabula.read_pdf(pdf_path, stream=True)\n",
    "!java -version"
   ]
  }
 ],
 "metadata": {
  "interpreter": {
   "hash": "2f3fd964406406b39bacddcc4d8d927d2d545c0de72a2b7b1d3c62308b776e1c"
  },
  "kernelspec": {
   "display_name": "Python 3.7.11 ('dev')",
   "language": "python",
   "name": "python3"
  },
  "language_info": {
   "codemirror_mode": {
    "name": "ipython",
    "version": 3
   },
   "file_extension": ".py",
   "mimetype": "text/x-python",
   "name": "python",
   "nbconvert_exporter": "python",
   "pygments_lexer": "ipython3",
   "version": "3.7.11"
  },
  "orig_nbformat": 4
 },
 "nbformat": 4,
 "nbformat_minor": 2
}
